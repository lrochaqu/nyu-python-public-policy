{
  "nbformat": 4,
  "nbformat_minor": 0,
  "metadata": {
    "colab": {
      "name": "HW1",
      "provenance": [],
      "collapsed_sections": [],
      "include_colab_link": true
    },
    "kernelspec": {
      "name": "python3",
      "display_name": "Python 3"
    }
  },
  "cells": [
    {
      "cell_type": "markdown",
      "metadata": {
        "id": "view-in-github",
        "colab_type": "text"
      },
      "source": [
        "<a href=\"https://colab.research.google.com/github/lrochaqu/nyu-python-public-policy/blob/master/HW1.ipynb\" target=\"_parent\"><img src=\"https://colab.research.google.com/assets/colab-badge.svg\" alt=\"Open In Colab\"/></a>"
      ]
    },
    {
      "cell_type": "markdown",
      "metadata": {
        "id": "9Uv6Qt82IlD9",
        "colab_type": "text"
      },
      "source": [
        "#Tutorial Python Basics\n"
      ]
    },
    {
      "cell_type": "code",
      "metadata": {
        "id": "pQU0BXPJ6Q_f",
        "colab_type": "code",
        "colab": {
          "base_uri": "https://localhost:8080/",
          "height": 34
        },
        "outputId": "81748f3d-26e2-40b4-be27-7574e484deba"
      },
      "source": [
        "'this is string'"
      ],
      "execution_count": 1,
      "outputs": [
        {
          "output_type": "execute_result",
          "data": {
            "text/plain": [
              "'this is string'"
            ]
          },
          "metadata": {
            "tags": []
          },
          "execution_count": 1
        }
      ]
    },
    {
      "cell_type": "code",
      "metadata": {
        "id": "Wj4WztPDCTWZ",
        "colab_type": "code",
        "colab": {}
      },
      "source": [
        "first_string = 'hello from mode'"
      ],
      "execution_count": 0,
      "outputs": []
    },
    {
      "cell_type": "code",
      "metadata": {
        "id": "sXFwqobYFldI",
        "colab_type": "code",
        "colab": {
          "base_uri": "https://localhost:8080/",
          "height": 34
        },
        "outputId": "dd26838b-71f9-4930-f6d3-b8b325b5d50d"
      },
      "source": [
        "print (first_string)"
      ],
      "execution_count": 5,
      "outputs": [
        {
          "output_type": "stream",
          "text": [
            "hello from mode\n"
          ],
          "name": "stdout"
        }
      ]
    },
    {
      "cell_type": "code",
      "metadata": {
        "id": "L6YZGC0GF7p8",
        "colab_type": "code",
        "colab": {
          "base_uri": "https://localhost:8080/",
          "height": 34
        },
        "outputId": "9dee4850-897a-4f06-bf94-38044e415617"
      },
      "source": [
        "first_string"
      ],
      "execution_count": 6,
      "outputs": [
        {
          "output_type": "execute_result",
          "data": {
            "text/plain": [
              "'hello from mode'"
            ]
          },
          "metadata": {
            "tags": []
          },
          "execution_count": 6
        }
      ]
    },
    {
      "cell_type": "code",
      "metadata": {
        "id": "d2_lksU0GHTw",
        "colab_type": "code",
        "colab": {
          "base_uri": "https://localhost:8080/",
          "height": 34
        },
        "outputId": "9ff65031-8c08-447e-d004-e99be2caebdc"
      },
      "source": [
        "print (\"one bacon double cheeseburger\")"
      ],
      "execution_count": 7,
      "outputs": [
        {
          "output_type": "stream",
          "text": [
            "one bacon double cheeseburger\n"
          ],
          "name": "stdout"
        }
      ]
    },
    {
      "cell_type": "code",
      "metadata": {
        "id": "QhU3_LKOG7Km",
        "colab_type": "code",
        "colab": {}
      },
      "source": [
        "cities = ['Tokyo','Los Angeles', 'New York','San Francisco']"
      ],
      "execution_count": 0,
      "outputs": []
    },
    {
      "cell_type": "code",
      "metadata": {
        "id": "vUJ7PNjNHk_-",
        "colab_type": "code",
        "colab": {
          "base_uri": "https://localhost:8080/",
          "height": 34
        },
        "outputId": "175af680-c4e0-413d-bfa6-cfaa7ca7bc04"
      },
      "source": [
        "print(cities)"
      ],
      "execution_count": 9,
      "outputs": [
        {
          "output_type": "stream",
          "text": [
            "['Tokyo', 'Los Angeles', 'New York', 'San Francisco']\n"
          ],
          "name": "stdout"
        }
      ]
    },
    {
      "cell_type": "code",
      "metadata": {
        "id": "xLLBwQ9DH1MT",
        "colab_type": "code",
        "colab": {
          "base_uri": "https://localhost:8080/",
          "height": 34
        },
        "outputId": "be9c8a6b-b26d-4f2d-bff8-ed0702d09219"
      },
      "source": [
        "cities [1]"
      ],
      "execution_count": 11,
      "outputs": [
        {
          "output_type": "execute_result",
          "data": {
            "text/plain": [
              "'Los Angeles'"
            ]
          },
          "metadata": {
            "tags": []
          },
          "execution_count": 11
        }
      ]
    },
    {
      "cell_type": "code",
      "metadata": {
        "id": "RUq1ryiaILPl",
        "colab_type": "code",
        "colab": {
          "base_uri": "https://localhost:8080/",
          "height": 34
        },
        "outputId": "c37b01f0-d43f-4be1-bd7c-d0d4351b5c9f"
      },
      "source": [
        "cities [0]"
      ],
      "execution_count": 13,
      "outputs": [
        {
          "output_type": "execute_result",
          "data": {
            "text/plain": [
              "'Tokyo'"
            ]
          },
          "metadata": {
            "tags": []
          },
          "execution_count": 13
        }
      ]
    },
    {
      "cell_type": "code",
      "metadata": {
        "id": "u8l39E-2IQ6K",
        "colab_type": "code",
        "colab": {
          "base_uri": "https://localhost:8080/",
          "height": 34
        },
        "outputId": "06ea1521-7bd1-4e73-be03-7a254ab189ce"
      },
      "source": [
        "cities[2]"
      ],
      "execution_count": 16,
      "outputs": [
        {
          "output_type": "execute_result",
          "data": {
            "text/plain": [
              "'New York'"
            ]
          },
          "metadata": {
            "tags": []
          },
          "execution_count": 16
        }
      ]
    },
    {
      "cell_type": "code",
      "metadata": {
        "id": "gd_JZxjgIinZ",
        "colab_type": "code",
        "colab": {}
      },
      "source": [
        "city_population = {\n",
        "    'Tokyo':13350000, \n",
        "    'Los Angeles': 18550000,\n",
        "    'New York City': 8400000,\n",
        "    'San Francisco': 1837442,\n",
        "}"
      ],
      "execution_count": 0,
      "outputs": []
    },
    {
      "cell_type": "code",
      "metadata": {
        "id": "KQWrWeyTJfAT",
        "colab_type": "code",
        "colab": {
          "base_uri": "https://localhost:8080/",
          "height": 54
        },
        "outputId": "db7c5472-3ced-4203-f560-4cf463cd1635"
      },
      "source": [
        "print(city_population)"
      ],
      "execution_count": 18,
      "outputs": [
        {
          "output_type": "stream",
          "text": [
            "{'Tokyo': 13350000, 'Los Angeles': 18550000, 'New York City': 8400000, 'San Francisco': 1837442}\n"
          ],
          "name": "stdout"
        }
      ]
    },
    {
      "cell_type": "code",
      "metadata": {
        "id": "oLwzCVbLJsCx",
        "colab_type": "code",
        "colab": {
          "base_uri": "https://localhost:8080/",
          "height": 85
        },
        "outputId": "b07e8931-ead9-4ef6-c477-f77b09267f80"
      },
      "source": [
        "city_population"
      ],
      "execution_count": 19,
      "outputs": [
        {
          "output_type": "execute_result",
          "data": {
            "text/plain": [
              "{'Los Angeles': 18550000,\n",
              " 'New York City': 8400000,\n",
              " 'San Francisco': 1837442,\n",
              " 'Tokyo': 13350000}"
            ]
          },
          "metadata": {
            "tags": []
          },
          "execution_count": 19
        }
      ]
    },
    {
      "cell_type": "code",
      "metadata": {
        "id": "Wx2-HZrWJ1wN",
        "colab_type": "code",
        "colab": {
          "base_uri": "https://localhost:8080/",
          "height": 34
        },
        "outputId": "4c79bc75-ded6-405b-db6c-181084c43486"
      },
      "source": [
        "city_population ['New York City']"
      ],
      "execution_count": 22,
      "outputs": [
        {
          "output_type": "execute_result",
          "data": {
            "text/plain": [
              "8400000"
            ]
          },
          "metadata": {
            "tags": []
          },
          "execution_count": 22
        }
      ]
    },
    {
      "cell_type": "code",
      "metadata": {
        "id": "ev8GunHNKNiq",
        "colab_type": "code",
        "colab": {
          "base_uri": "https://localhost:8080/",
          "height": 34
        },
        "outputId": "63ffe709-b945-47e9-8bca-64a238a804f8"
      },
      "source": [
        "city_population ['Tokyo']"
      ],
      "execution_count": 25,
      "outputs": [
        {
          "output_type": "execute_result",
          "data": {
            "text/plain": [
              "13350000"
            ]
          },
          "metadata": {
            "tags": []
          },
          "execution_count": 25
        }
      ]
    },
    {
      "cell_type": "code",
      "metadata": {
        "id": "bTO1ZNMBKlgN",
        "colab_type": "code",
        "colab": {}
      },
      "source": [
        "city_population['San Francisco']= 837442"
      ],
      "execution_count": 0,
      "outputs": []
    },
    {
      "cell_type": "code",
      "metadata": {
        "id": "OYrrg3mMKv6A",
        "colab_type": "code",
        "colab": {
          "base_uri": "https://localhost:8080/",
          "height": 85
        },
        "outputId": "106a994c-b072-45f8-e67f-7ebd0adda3fb"
      },
      "source": [
        "city_population"
      ],
      "execution_count": 28,
      "outputs": [
        {
          "output_type": "execute_result",
          "data": {
            "text/plain": [
              "{'Los Angeles': 18550000,\n",
              " 'New York City': 8400000,\n",
              " 'San Francisco': 837442,\n",
              " 'Tokyo': 13350000}"
            ]
          },
          "metadata": {
            "tags": []
          },
          "execution_count": 28
        }
      ]
    },
    {
      "cell_type": "code",
      "metadata": {
        "id": "UOYOam6FK1OC",
        "colab_type": "code",
        "colab": {}
      },
      "source": [
        "city_population['Mumbai'] = 11980000"
      ],
      "execution_count": 0,
      "outputs": []
    },
    {
      "cell_type": "code",
      "metadata": {
        "id": "qps2qBQPLZFy",
        "colab_type": "code",
        "colab": {
          "base_uri": "https://localhost:8080/",
          "height": 102
        },
        "outputId": "7292afbd-e7cf-47c3-f331-d7e3fe154873"
      },
      "source": [
        "city_population"
      ],
      "execution_count": 31,
      "outputs": [
        {
          "output_type": "execute_result",
          "data": {
            "text/plain": [
              "{'Los Angeles': 18550000,\n",
              " 'Mumbai': 11980000,\n",
              " 'New York City': 8400000,\n",
              " 'San Francisco': 837442,\n",
              " 'Tokyo': 13350000}"
            ]
          },
          "metadata": {
            "tags": []
          },
          "execution_count": 31
        }
      ]
    },
    {
      "cell_type": "code",
      "metadata": {
        "id": "0Yk_ObQ0Lp3R",
        "colab_type": "code",
        "colab": {}
      },
      "source": [
        "municipalities = {\n",
        "    'New York':[\n",
        "                'Manhattan',\n",
        "                'The Bronx',\n",
        "                'Brooklyn',\n",
        "                'Queens',\n",
        "                'Staten Island'\n",
        "    ],\n",
        "    'Tokyo': [\n",
        "              'Akihabara', \n",
        "              'Harajuku',\n",
        "              'Shimokitazawa',\n",
        "              'Nakameguro',\n",
        " 'Shibuya',\n",
        " 'Ebisu/Daikanyama',\n",
        " 'Shibuya District',\n",
        " 'Aoyama',\n",
        " 'Asakusa/Ueno',\n",
        " 'Bunkyo District',\n",
        " 'Ginza',\n",
        " 'Ikebukuro',\n",
        " 'Koto District',\n",
        " 'Meguro District',\n",
        " 'Minato District',\n",
        " 'Roppongi',\n",
        " 'Shinagawa District',\n",
        " 'Shinjuku',\n",
        " 'Shinjuku District',\n",
        " 'Sumida District',\n",
        " 'Tsukiji',\n",
        " 'Tsukishima']\n",
        "}"
      ],
      "execution_count": 0,
      "outputs": []
    },
    {
      "cell_type": "code",
      "metadata": {
        "id": "k4QtcDSSNYJh",
        "colab_type": "code",
        "colab": {
          "base_uri": "https://localhost:8080/",
          "height": 391
        },
        "outputId": "c4c2f69a-dc44-419f-8e54-6c7547d9c1f0"
      },
      "source": [
        "municipalities ['Tokyo']"
      ],
      "execution_count": 37,
      "outputs": [
        {
          "output_type": "execute_result",
          "data": {
            "text/plain": [
              "['Akihabara',\n",
              " 'Harajuku',\n",
              " 'Shimokitazawa',\n",
              " 'Nakameguro',\n",
              " 'Shibuya',\n",
              " 'Ebisu/Daikanyama',\n",
              " 'Shibuya District',\n",
              " 'Aoyama',\n",
              " 'Asakusa/Ueno',\n",
              " 'Bunkyo District',\n",
              " 'Ginza',\n",
              " 'Ikebukuro',\n",
              " 'Koto District',\n",
              " 'Meguro District',\n",
              " 'Minato District',\n",
              " 'Roppongi',\n",
              " 'Shinagawa District',\n",
              " 'Shinjuku',\n",
              " 'Shinjuku District',\n",
              " 'Sumida District',\n",
              " 'Tsukiji',\n",
              " 'Tsukishima']"
            ]
          },
          "metadata": {
            "tags": []
          },
          "execution_count": 37
        }
      ]
    },
    {
      "cell_type": "code",
      "metadata": {
        "id": "YWk3y9FrNyq4",
        "colab_type": "code",
        "colab": {
          "base_uri": "https://localhost:8080/",
          "height": 34
        },
        "outputId": "047d2630-089f-470b-9847-639cfde546ba"
      },
      "source": [
        "municipalities ['Tokyo'][3]"
      ],
      "execution_count": 38,
      "outputs": [
        {
          "output_type": "execute_result",
          "data": {
            "text/plain": [
              "'Nakameguro'"
            ]
          },
          "metadata": {
            "tags": []
          },
          "execution_count": 38
        }
      ]
    },
    {
      "cell_type": "code",
      "metadata": {
        "id": "u66eYa0IOUA9",
        "colab_type": "code",
        "colab": {
          "base_uri": "https://localhost:8080/",
          "height": 34
        },
        "outputId": "ab9dd776-2994-41e0-f051-7b94aff940f4"
      },
      "source": [
        "municipalities ['New York'][3]"
      ],
      "execution_count": 39,
      "outputs": [
        {
          "output_type": "execute_result",
          "data": {
            "text/plain": [
              "'Queens'"
            ]
          },
          "metadata": {
            "tags": []
          },
          "execution_count": 39
        }
      ]
    },
    {
      "cell_type": "code",
      "metadata": {
        "id": "f9IhEqOQOnPB",
        "colab_type": "code",
        "colab": {
          "base_uri": "https://localhost:8080/",
          "height": 34
        },
        "outputId": "69d8a267-b7bb-412c-f41a-840a33c34e0c"
      },
      "source": [
        "type(True)"
      ],
      "execution_count": 40,
      "outputs": [
        {
          "output_type": "execute_result",
          "data": {
            "text/plain": [
              "bool"
            ]
          },
          "metadata": {
            "tags": []
          },
          "execution_count": 40
        }
      ]
    },
    {
      "cell_type": "code",
      "metadata": {
        "id": "-8zk6ZGhPJlK",
        "colab_type": "code",
        "colab": {
          "base_uri": "https://localhost:8080/",
          "height": 34
        },
        "outputId": "11db2cdf-4b10-4d93-8ef3-421822cd7d4d"
      },
      "source": [
        "type(municipalities['Tokyo'])"
      ],
      "execution_count": 41,
      "outputs": [
        {
          "output_type": "execute_result",
          "data": {
            "text/plain": [
              "list"
            ]
          },
          "metadata": {
            "tags": []
          },
          "execution_count": 41
        }
      ]
    },
    {
      "cell_type": "code",
      "metadata": {
        "id": "zHmkSOjdPYuf",
        "colab_type": "code",
        "colab": {
          "base_uri": "https://localhost:8080/",
          "height": 34
        },
        "outputId": "928007d7-6195-4b91-d52f-8e5073d384a1"
      },
      "source": [
        "city_population ['Tokyo'] == 13350000"
      ],
      "execution_count": 43,
      "outputs": [
        {
          "output_type": "execute_result",
          "data": {
            "text/plain": [
              "True"
            ]
          },
          "metadata": {
            "tags": []
          },
          "execution_count": 43
        }
      ]
    },
    {
      "cell_type": "code",
      "metadata": {
        "id": "1H4tDWGGPjVX",
        "colab_type": "code",
        "colab": {
          "base_uri": "https://localhost:8080/",
          "height": 34
        },
        "outputId": "8786420a-a7a7-4853-dc74-729ac59436a2"
      },
      "source": [
        "city_population ['Tokyo'] == 50000"
      ],
      "execution_count": 44,
      "outputs": [
        {
          "output_type": "execute_result",
          "data": {
            "text/plain": [
              "False"
            ]
          },
          "metadata": {
            "tags": []
          },
          "execution_count": 44
        }
      ]
    },
    {
      "cell_type": "code",
      "metadata": {
        "id": "ILXziZTfQGuL",
        "colab_type": "code",
        "colab": {
          "base_uri": "https://localhost:8080/",
          "height": 34
        },
        "outputId": "a1a195be-5e59-4728-9a3b-ffa0300f85b9"
      },
      "source": [
        "city_population ['Tokyo'] != 50000"
      ],
      "execution_count": 45,
      "outputs": [
        {
          "output_type": "execute_result",
          "data": {
            "text/plain": [
              "True"
            ]
          },
          "metadata": {
            "tags": []
          },
          "execution_count": 45
        }
      ]
    },
    {
      "cell_type": "code",
      "metadata": {
        "id": "AAYrIc_zQbPb",
        "colab_type": "code",
        "colab": {
          "base_uri": "https://localhost:8080/",
          "height": 34
        },
        "outputId": "75f20833-5ba3-4302-966e-ada04f046a4c"
      },
      "source": [
        "type(municipalities ['Tokyo'])"
      ],
      "execution_count": 46,
      "outputs": [
        {
          "output_type": "execute_result",
          "data": {
            "text/plain": [
              "list"
            ]
          },
          "metadata": {
            "tags": []
          },
          "execution_count": 46
        }
      ]
    },
    {
      "cell_type": "markdown",
      "metadata": {
        "id": "tpCs31ABQpYz",
        "colab_type": "text"
      },
      "source": [
        "#Python Methods, Functions & Libraries\n"
      ]
    },
    {
      "cell_type": "code",
      "metadata": {
        "id": "KIN3hPK2Y7l6",
        "colab_type": "code",
        "colab": {
          "base_uri": "https://localhost:8080/",
          "height": 102
        },
        "outputId": "0fd4aa30-d0d5-4955-bd6e-d9b285bb3e5c"
      },
      "source": [
        "city_population"
      ],
      "execution_count": 71,
      "outputs": [
        {
          "output_type": "execute_result",
          "data": {
            "text/plain": [
              "{'Los Angeles': 18550000,\n",
              " 'Mumbai': 11980000,\n",
              " 'New York City': 8400000,\n",
              " 'San Francisco': 837442,\n",
              " 'Tokyo': 13350000}"
            ]
          },
          "metadata": {
            "tags": []
          },
          "execution_count": 71
        }
      ]
    },
    {
      "cell_type": "code",
      "metadata": {
        "id": "XihiXUcYQv1n",
        "colab_type": "code",
        "colab": {
          "base_uri": "https://localhost:8080/",
          "height": 54
        },
        "outputId": "63055605-d234-471f-f6cd-5678db6c9309"
      },
      "source": [
        "city_population.keys()"
      ],
      "execution_count": 52,
      "outputs": [
        {
          "output_type": "execute_result",
          "data": {
            "text/plain": [
              "dict_keys(['Tokyo', 'Los Angeles', 'New York City', 'San Francisco', 'Mumbai'])"
            ]
          },
          "metadata": {
            "tags": []
          },
          "execution_count": 52
        }
      ]
    },
    {
      "cell_type": "code",
      "metadata": {
        "id": "EQdqafZyV5mz",
        "colab_type": "code",
        "colab": {
          "base_uri": "https://localhost:8080/",
          "height": 54
        },
        "outputId": "9070ac7b-8403-4dc5-fc3c-e2d392303a2d"
      },
      "source": [
        "city_population.keys()"
      ],
      "execution_count": 58,
      "outputs": [
        {
          "output_type": "execute_result",
          "data": {
            "text/plain": [
              "dict_keys(['Tokyo', 'Los Angeles', 'New York City', 'San Francisco', 'Mumbai'])"
            ]
          },
          "metadata": {
            "tags": []
          },
          "execution_count": 58
        }
      ]
    },
    {
      "cell_type": "code",
      "metadata": {
        "id": "lbhkkFz-XPat",
        "colab_type": "code",
        "colab": {
          "base_uri": "https://localhost:8080/",
          "height": 34
        },
        "outputId": "03f9e7c4-b985-4871-fce5-d9b4b56b7526"
      },
      "source": [
        "type(city_population.keys())"
      ],
      "execution_count": 68,
      "outputs": [
        {
          "output_type": "execute_result",
          "data": {
            "text/plain": [
              "dict_keys"
            ]
          },
          "metadata": {
            "tags": []
          },
          "execution_count": 68
        }
      ]
    },
    {
      "cell_type": "code",
      "metadata": {
        "id": "SQoKcQVJZrBd",
        "colab_type": "code",
        "colab": {
          "base_uri": "https://localhost:8080/",
          "height": 34
        },
        "outputId": "b6adcd26-971e-4d11-eb7c-d59654562a48"
      },
      "source": [
        "list(city_population.keys())"
      ],
      "execution_count": 84,
      "outputs": [
        {
          "output_type": "execute_result",
          "data": {
            "text/plain": [
              "['Tokyo', 'Los Angeles', 'New York City', 'San Francisco', 'Mumbai']"
            ]
          },
          "metadata": {
            "tags": []
          },
          "execution_count": 84
        }
      ]
    },
    {
      "cell_type": "code",
      "metadata": {
        "id": "_1zIxG9eb0LL",
        "colab_type": "code",
        "colab": {
          "base_uri": "https://localhost:8080/",
          "height": 34
        },
        "outputId": "8e0f8ea2-67f6-45f5-dc8b-dc4be14bc203"
      },
      "source": [
        "list(city_population.keys())[2]"
      ],
      "execution_count": 85,
      "outputs": [
        {
          "output_type": "execute_result",
          "data": {
            "text/plain": [
              "'New York City'"
            ]
          },
          "metadata": {
            "tags": []
          },
          "execution_count": 85
        }
      ]
    },
    {
      "cell_type": "code",
      "metadata": {
        "id": "W9AT2uwaXzts",
        "colab_type": "code",
        "colab": {
          "base_uri": "https://localhost:8080/",
          "height": 34
        },
        "outputId": "6bfd1a92-b28b-4405-f2a0-34ea91319e0d"
      },
      "source": [
        "city_population.values()"
      ],
      "execution_count": 77,
      "outputs": [
        {
          "output_type": "execute_result",
          "data": {
            "text/plain": [
              "dict_values([13350000, 18550000, 8400000, 837442, 11980000])"
            ]
          },
          "metadata": {
            "tags": []
          },
          "execution_count": 77
        }
      ]
    },
    {
      "cell_type": "code",
      "metadata": {
        "id": "i805_4RacON9",
        "colab_type": "code",
        "colab": {
          "base_uri": "https://localhost:8080/",
          "height": 34
        },
        "outputId": "fb679c99-fd45-425c-bf5a-d09199b01210"
      },
      "source": [
        "city_population['Los Angeles']"
      ],
      "execution_count": 91,
      "outputs": [
        {
          "output_type": "execute_result",
          "data": {
            "text/plain": [
              "18550000"
            ]
          },
          "metadata": {
            "tags": []
          },
          "execution_count": 91
        }
      ]
    },
    {
      "cell_type": "code",
      "metadata": {
        "id": "mlzKlv1EdM92",
        "colab_type": "code",
        "colab": {
          "base_uri": "https://localhost:8080/",
          "height": 34
        },
        "outputId": "596998f4-f820-4153-944e-ab8c1cffba56"
      },
      "source": [
        "municipalities['Tokyo'][3]"
      ],
      "execution_count": 92,
      "outputs": [
        {
          "output_type": "execute_result",
          "data": {
            "text/plain": [
              "'Nakameguro'"
            ]
          },
          "metadata": {
            "tags": []
          },
          "execution_count": 92
        }
      ]
    },
    {
      "cell_type": "code",
      "metadata": {
        "id": "lt1eH6Ptdl9q",
        "colab_type": "code",
        "colab": {
          "base_uri": "https://localhost:8080/",
          "height": 34
        },
        "outputId": "08276185-8498-43e1-8460-0f919c998324"
      },
      "source": [
        "municipalities.keys()"
      ],
      "execution_count": 93,
      "outputs": [
        {
          "output_type": "execute_result",
          "data": {
            "text/plain": [
              "dict_keys(['New York', 'Tokyo'])"
            ]
          },
          "metadata": {
            "tags": []
          },
          "execution_count": 93
        }
      ]
    },
    {
      "cell_type": "code",
      "metadata": {
        "id": "koBUnsgIdu1c",
        "colab_type": "code",
        "colab": {
          "base_uri": "https://localhost:8080/",
          "height": 408
        },
        "outputId": "a87f034e-904c-46c0-bd97-779bf536e962"
      },
      "source": [
        "list(municipalities.values())"
      ],
      "execution_count": 95,
      "outputs": [
        {
          "output_type": "execute_result",
          "data": {
            "text/plain": [
              "[['Manhattan', 'The Bronx', 'Brooklyn', 'Queens', 'Staten Island'],\n",
              " ['Akihabara',\n",
              "  'Harajuku',\n",
              "  'Shimokitazawa',\n",
              "  'Nakameguro',\n",
              "  'Shibuya',\n",
              "  'Ebisu/Daikanyama',\n",
              "  'Shibuya District',\n",
              "  'Aoyama',\n",
              "  'Asakusa/Ueno',\n",
              "  'Bunkyo District',\n",
              "  'Ginza',\n",
              "  'Ikebukuro',\n",
              "  'Koto District',\n",
              "  'Meguro District',\n",
              "  'Minato District',\n",
              "  'Roppongi',\n",
              "  'Shinagawa District',\n",
              "  'Shinjuku',\n",
              "  'Shinjuku District',\n",
              "  'Sumida District',\n",
              "  'Tsukiji',\n",
              "  'Tsukishima']]"
            ]
          },
          "metadata": {
            "tags": []
          },
          "execution_count": 95
        }
      ]
    },
    {
      "cell_type": "code",
      "metadata": {
        "id": "wxjhhfAVeKHw",
        "colab_type": "code",
        "colab": {
          "base_uri": "https://localhost:8080/",
          "height": 68
        },
        "outputId": "f180e65d-d75d-40a8-ae9f-ee607739ed33"
      },
      "source": [
        "print(type(municipalities))\n",
        "print(type(municipalities['Tokyo']))\n",
        "print(type(municipalities['Tokyo'][0]))"
      ],
      "execution_count": 100,
      "outputs": [
        {
          "output_type": "stream",
          "text": [
            "<class 'dict'>\n",
            "<class 'list'>\n",
            "<class 'str'>\n"
          ],
          "name": "stdout"
        }
      ]
    },
    {
      "cell_type": "code",
      "metadata": {
        "id": "0pAIj4RLf7Pt",
        "colab_type": "code",
        "colab": {
          "base_uri": "https://localhost:8080/",
          "height": 34
        },
        "outputId": "048891e3-7739-471d-93d8-5983313b5d7c"
      },
      "source": [
        "type(municipalities)\n",
        "type(municipalities['Tokyo'])\n",
        "type(municipalities['Tokyo'][0])"
      ],
      "execution_count": 101,
      "outputs": [
        {
          "output_type": "execute_result",
          "data": {
            "text/plain": [
              "str"
            ]
          },
          "metadata": {
            "tags": []
          },
          "execution_count": 101
        }
      ]
    },
    {
      "cell_type": "code",
      "metadata": {
        "id": "NSiAHyLxgFhZ",
        "colab_type": "code",
        "colab": {
          "base_uri": "https://localhost:8080/",
          "height": 34
        },
        "outputId": "a98ed9db-ba70-4852-c43a-40ed26f7eb31"
      },
      "source": [
        "type(list(city_population.values())[0])"
      ],
      "execution_count": 119,
      "outputs": [
        {
          "output_type": "execute_result",
          "data": {
            "text/plain": [
              "int"
            ]
          },
          "metadata": {
            "tags": []
          },
          "execution_count": 119
        }
      ]
    },
    {
      "cell_type": "code",
      "metadata": {
        "id": "U8gkGHECiPn8",
        "colab_type": "code",
        "colab": {
          "base_uri": "https://localhost:8080/",
          "height": 34
        },
        "outputId": "ae439b5a-ab0a-47a9-ef2d-5514c7cf4fda"
      },
      "source": [
        "len(municipalities['Tokyo'])"
      ],
      "execution_count": 120,
      "outputs": [
        {
          "output_type": "execute_result",
          "data": {
            "text/plain": [
              "22"
            ]
          },
          "metadata": {
            "tags": []
          },
          "execution_count": 120
        }
      ]
    },
    {
      "cell_type": "code",
      "metadata": {
        "id": "kqMMm3Myij9I",
        "colab_type": "code",
        "colab": {
          "base_uri": "https://localhost:8080/",
          "height": 34
        },
        "outputId": "bd2b7bed-9dc9-4092-9bd5-a3133dbd14ba"
      },
      "source": [
        "len(municipalities['Tokyo'][2])"
      ],
      "execution_count": 121,
      "outputs": [
        {
          "output_type": "execute_result",
          "data": {
            "text/plain": [
              "13"
            ]
          },
          "metadata": {
            "tags": []
          },
          "execution_count": 121
        }
      ]
    },
    {
      "cell_type": "code",
      "metadata": {
        "id": "62ZmdSUOi2ML",
        "colab_type": "code",
        "colab": {
          "base_uri": "https://localhost:8080/",
          "height": 34
        },
        "outputId": "9306d62b-5673-45b8-c351-a1eb3f7a2ff6"
      },
      "source": [
        "len(municipalities)"
      ],
      "execution_count": 122,
      "outputs": [
        {
          "output_type": "execute_result",
          "data": {
            "text/plain": [
              "2"
            ]
          },
          "metadata": {
            "tags": []
          },
          "execution_count": 122
        }
      ]
    },
    {
      "cell_type": "code",
      "metadata": {
        "id": "CmjfnFMGmVEr",
        "colab_type": "code",
        "colab": {}
      },
      "source": [
        "import numpy as np\n"
      ],
      "execution_count": 0,
      "outputs": []
    },
    {
      "cell_type": "code",
      "metadata": {
        "id": "Xe2aLdrejuBw",
        "colab_type": "code",
        "colab": {
          "base_uri": "https://localhost:8080/",
          "height": 34
        },
        "outputId": "5e035598-1247-45a9-8a5d-253d4f40b418"
      },
      "source": [
        "population_values = city_population.values()\n",
        "population_values"
      ],
      "execution_count": 127,
      "outputs": [
        {
          "output_type": "execute_result",
          "data": {
            "text/plain": [
              "dict_values([13350000, 18550000, 8400000, 837442, 11980000])"
            ]
          },
          "metadata": {
            "tags": []
          },
          "execution_count": 127
        }
      ]
    },
    {
      "cell_type": "code",
      "metadata": {
        "id": "3O4bsegLnHoU",
        "colab_type": "code",
        "colab": {
          "base_uri": "https://localhost:8080/",
          "height": 34
        },
        "outputId": "be114109-f18c-4618-fa53-c64900d94669"
      },
      "source": [
        "list(city_population.values()())"
      ],
      "execution_count": 138,
      "outputs": [
        {
          "output_type": "execute_result",
          "data": {
            "text/plain": [
              "[13350000, 18550000, 8400000, 837442, 11980000]"
            ]
          },
          "metadata": {
            "tags": []
          },
          "execution_count": 138
        }
      ]
    },
    {
      "cell_type": "code",
      "metadata": {
        "id": "H9Ps52iGnSU5",
        "colab_type": "code",
        "colab": {
          "base_uri": "https://localhost:8080/",
          "height": 34
        },
        "outputId": "3a750a61-0b09-4133-e9c5-afb165949d3c"
      },
      "source": [
        "numpy.mean(list(city_population.values()))"
      ],
      "execution_count": 141,
      "outputs": [
        {
          "output_type": "execute_result",
          "data": {
            "text/plain": [
              "10623488.4"
            ]
          },
          "metadata": {
            "tags": []
          },
          "execution_count": 141
        }
      ]
    }
  ]
}