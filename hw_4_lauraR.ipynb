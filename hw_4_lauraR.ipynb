{
  "nbformat": 4,
  "nbformat_minor": 0,
  "metadata": {
    "colab": {
      "name": "hw_4_lauraR.ipynb",
      "provenance": [],
      "collapsed_sections": [],
      "include_colab_link": true
    },
    "kernelspec": {
      "name": "python3",
      "display_name": "Python 3"
    }
  },
  "cells": [
    {
      "cell_type": "markdown",
      "metadata": {
        "id": "view-in-github",
        "colab_type": "text"
      },
      "source": [
        "<a href=\"https://colab.research.google.com/github/lrochaqu/nyu-python-public-policy/blob/master/hw_4_lauraR.ipynb\" target=\"_parent\"><img src=\"https://colab.research.google.com/assets/colab-badge.svg\" alt=\"Open In Colab\"/></a>"
      ]
    },
    {
      "cell_type": "markdown",
      "metadata": {
        "id": "7fo4kU_UjgyY",
        "colab_type": "text"
      },
      "source": [
        "# **NYU Wagner - Python Coding for Public Policy**\n",
        "# Starter notebook for HW 4: Analyzing and visualizing specific categories of 311 complaints"
      ]
    },
    {
      "cell_type": "markdown",
      "metadata": {
        "id": "9rvnMzjSMK36",
        "colab_type": "text"
      },
      "source": [
        "## Start by importing necessary packages"
      ]
    },
    {
      "cell_type": "code",
      "metadata": {
        "id": "afIn7RhGFj7j",
        "colab_type": "code",
        "colab": {}
      },
      "source": [
        "import pandas as pd\n",
        "import matplotlib.pyplot as plt \n",
        "import numpy as np\n",
        "\n",
        "from google.colab import drive\n",
        "\n",
        "pd.set_option('display.max_columns', None)\n",
        "pd.set_option('display.max_rows', None)"
      ],
      "execution_count": 0,
      "outputs": []
    },
    {
      "cell_type": "markdown",
      "metadata": {
        "id": "R1G04BmMMFJb",
        "colab_type": "text"
      },
      "source": [
        "## Read and save our cleaned 311 Service Requests dataset as a pandas dataframe named \"df\""
      ]
    },
    {
      "cell_type": "code",
      "metadata": {
        "id": "vF4GZaq-Fvoq",
        "colab_type": "code",
        "outputId": "813424cd-a5b5-46bf-e7d6-a7559fe56fa0",
        "colab": {
          "base_uri": "https://localhost:8080/",
          "height": 88
        }
      },
      "source": [
        "drive.mount('/content/drive')\n",
        "df = pd.read_csv('/content/drive/My Drive/Data for Python/cleaned_311_data.csv', header='infer')"
      ],
      "execution_count": 147,
      "outputs": [
        {
          "output_type": "stream",
          "text": [
            "Drive already mounted at /content/drive; to attempt to forcibly remount, call drive.mount(\"/content/drive\", force_remount=True).\n"
          ],
          "name": "stdout"
        },
        {
          "output_type": "stream",
          "text": [
            "/usr/local/lib/python3.6/dist-packages/IPython/core/interactiveshell.py:2718: DtypeWarning: Columns (9,18,21,32,35) have mixed types. Specify dtype option on import or set low_memory=False.\n",
            "  interactivity=interactivity, compiler=compiler, result=result)\n"
          ],
          "name": "stderr"
        }
      ]
    },
    {
      "cell_type": "markdown",
      "metadata": {
        "id": "LvGH8N9CLcj4",
        "colab_type": "text"
      },
      "source": [
        "## **Problem Statement:** \n",
        "There seems to be a general trend that the higher the community district population, the higher the number of 311 requests. However, there is a lot of variance in the data. What if we only look at complaint types that are likely influenced by population?\n",
        "\n",
        "\"Noise - Residential\" and \"HEAT/HOT WATER\" were the most frequest requests in the entire 311 dataset. Let's try isolating the count of requests in each of those two categories versus all the other complaints."
      ]
    },
    {
      "cell_type": "markdown",
      "metadata": {
        "id": "xmKsEI-BkoXZ",
        "colab_type": "text"
      },
      "source": [
        "**Step 1**. First you will need to prep your data to get the count of complaints categorized as Noise - Residential, HEAT/HOT WATER, and everything else. You can update the code from lecture that gets the total count of 311 requests per CD to instead get the count of 311 requests per CD that meet the criteria for the 3 categories. You should create three separate dataframes, one per category:\n",
        "\n",
        "1. `complaint_type = 'Noise - Residential'`\n",
        "2. `complaint_type = 'HEAT/HOT WATER'`\n",
        "3. Everything else: `(complaint_type != 'Noise - Residential') & (complaint_type != 'HEAT/HOT WATER')`"
      ]
    },
    {
      "cell_type": "markdown",
      "metadata": {
        "id": "WLfodgid1PUf",
        "colab_type": "text"
      },
      "source": [
        "First create 3 dataframes, that contain the desired rows based on the complaint_type row filtering."
      ]
    },
    {
      "cell_type": "code",
      "metadata": {
        "id": "troJZFWgq9zg",
        "colab_type": "code",
        "colab": {}
      },
      "source": [
        "noise = df[df.complaint_type == 'Noise - Residential']\n",
        "heatwater = df[df.complaint_type == 'HEAT/HOT WATER']\n",
        "other = df[(df.complaint_type != 'HEAT/HOT WATER') & (df.complaint_type != 'Noise - Residential')]"
      ],
      "execution_count": 0,
      "outputs": []
    },
    {
      "cell_type": "markdown",
      "metadata": {
        "id": "Y4zBrzYhUDP3",
        "colab_type": "text"
      },
      "source": [
        "Then group each dataframes by the `community_board` value to get the count of request per community district."
      ]
    },
    {
      "cell_type": "code",
      "metadata": {
        "id": "hLIoPlYrUClp",
        "colab_type": "code",
        "outputId": "d619d0eb-5027-449e-9ba7-8a26716ff5e1",
        "colab": {
          "base_uri": "https://localhost:8080/",
          "height": 85
        }
      },
      "source": [
        "count_noise = noise.groupby('community_board').size().reset_index(name='count_of_311_requests')\n",
        "print(len(count_noise))\n",
        "\n",
        "count_heatwater = heatwater.groupby('community_board').size().reset_index(name='count_of_311_requests')\n",
        "print(len(count_heatwater))\n",
        "\n",
        "count_other = other.groupby('community_board').size().reset_index(name='count_of_311_requests')\n",
        "print(len(count_other))\n",
        "\n",
        "# note: we won't use count_all in the charts, but we can use it as a check that the subsets all add up to the correct total\n",
        "count_all = df.groupby('community_board').size().reset_index(name='count_of_311_requests')\n",
        "print(len(count_all))"
      ],
      "execution_count": 149,
      "outputs": [
        {
          "output_type": "stream",
          "text": [
            "69\n",
            "66\n",
            "77\n",
            "77\n"
          ],
          "name": "stdout"
        }
      ]
    },
    {
      "cell_type": "markdown",
      "metadata": {
        "id": "JCA-z7Go0_BM",
        "colab_type": "text"
      },
      "source": [
        "Note the lengths of these dataframes. We can see that we're going to run into problems, because they're each a different length (i.e. have a different number of rows) and they're all greater than 59. There are only 59 community districts in the city, so these dataframes are including some extra invalid community district rows. The invalid rows include community board values containing \"Unspecified\" or district numbers that are higher than what exist in real life. Ex: '84 QUEENS', 'Unspecified BRONX'\n"
      ]
    },
    {
      "cell_type": "markdown",
      "metadata": {
        "id": "bFtFoNIh2OUo",
        "colab_type": "text"
      },
      "source": [
        "Here's a list of all the valid borocd values that exist in the city:"
      ]
    },
    {
      "cell_type": "code",
      "metadata": {
        "id": "ATGOqZ4E2H3f",
        "colab_type": "code",
        "colab": {}
      },
      "source": [
        "valid_borocds = ['101','102','103','104','105','106','107','108','109','110','111','112','201','202','203','204','205','206','207','208','209','210','211','212','301','302','303','304','305','306','307','308','309','310','311','312','313','314','315','316','317','318','401','402','403','404','405','406','407','408','409','410','411','412','413','414','501','502','503']"
      ],
      "execution_count": 0,
      "outputs": []
    },
    {
      "cell_type": "markdown",
      "metadata": {
        "id": "lxVd_nzZ1zHM",
        "colab_type": "text"
      },
      "source": [
        "If we recode the community_board column into borocd, we can filter our dataframes to only keep valid borocd rows"
      ]
    },
    {
      "cell_type": "code",
      "metadata": {
        "id": "DJwokPlrGNKv",
        "colab_type": "code",
        "colab": {}
      },
      "source": [
        "# this function will recode the community_board value into borocd in a new column\n",
        "\n",
        "def recode_borocd_counts(row):\n",
        "  if row.community_board[0] != 'U':\n",
        "    if 'MANHATTAN' in row.community_board:\n",
        "      return '1' + row.community_board[0:2]\n",
        "    elif 'BRONX' in row.community_board:\n",
        "      return '2' + row.community_board[0:2]\n",
        "    elif 'BROOKLYN' in row.community_board:\n",
        "      return '3' + row.community_board[0:2]\n",
        "    elif 'QUEENS' in row.community_board:\n",
        "      return '4' + row.community_board[0:2]\n",
        "    elif 'STATEN ISLAND' in row.community_board:\n",
        "      return '5' + row.community_board[0:2]\n",
        "  else:\n",
        "    return 'Invalid borocd'\n",
        "\n",
        "# we can apply the function to each of our dataframes. this is the beauty of functions; you can reuse them on multiple objects!\n",
        "\n",
        "count_noise['borocd'] = count_noise.apply(recode_borocd_counts, axis=1)\n",
        "\n",
        "count_heatwater['borocd'] = count_heatwater.apply(recode_borocd_counts, axis=1)\n",
        "\n",
        "count_other['borocd'] = count_other.apply(recode_borocd_counts, axis=1)\n",
        "\n",
        "count_all['borocd'] = count_all.apply(recode_borocd_counts, axis=1)"
      ],
      "execution_count": 0,
      "outputs": []
    },
    {
      "cell_type": "markdown",
      "metadata": {
        "id": "sud8LNl03bkK",
        "colab_type": "text"
      },
      "source": [
        "Now we can filter the dataframes to only keep the valid borocd rows. Remember the `.isin()` function from one of our prior lectures?"
      ]
    },
    {
      "cell_type": "code",
      "metadata": {
        "id": "APZ8jJwJ3Bmy",
        "colab_type": "code",
        "outputId": "3e31eb3e-2e7e-4ea1-a782-f12cea3b79b0",
        "colab": {
          "base_uri": "https://localhost:8080/",
          "height": 85
        }
      },
      "source": [
        "count_noise = count_noise[count_noise.borocd.isin(valid_borocds)]\n",
        "print(len(count_noise))\n",
        "\n",
        "count_heatwater = count_heatwater[count_heatwater.borocd.isin(valid_borocds)]\n",
        "print(len(count_heatwater))\n",
        "\n",
        "count_other = count_other[count_other.borocd.isin(valid_borocds)]\n",
        "print(len(count_other))\n",
        "\n",
        "count_all = count_all[count_all.borocd.isin(valid_borocds)]\n",
        "print(len(count_all))"
      ],
      "execution_count": 152,
      "outputs": [
        {
          "output_type": "stream",
          "text": [
            "59\n",
            "59\n",
            "59\n",
            "59\n"
          ],
          "name": "stdout"
        }
      ]
    },
    {
      "cell_type": "markdown",
      "metadata": {
        "id": "lzg5cgR93vgD",
        "colab_type": "text"
      },
      "source": [
        "Great, now we have clean dataframes that are all the same, correct length. Let's make sure the 311 request counts add up as expected."
      ]
    },
    {
      "cell_type": "code",
      "metadata": {
        "id": "9fAx9jYT459Q",
        "colab_type": "code",
        "outputId": "57e068cb-0bab-4391-e204-71cf44acf79a",
        "colab": {
          "base_uri": "https://localhost:8080/",
          "height": 425
        }
      },
      "source": [
        "print(count_noise.head())\n",
        "print(count_heatwater.head())\n",
        "print(count_other.head())\n",
        "print(count_all.head())"
      ],
      "execution_count": 153,
      "outputs": [
        {
          "output_type": "stream",
          "text": [
            "    community_board  count_of_311_requests borocd\n",
            "1          01 BRONX                   3691    201\n",
            "2       01 BROOKLYN                   5844    301\n",
            "3      01 MANHATTAN                    722    101\n",
            "4         01 QUEENS                   4589    401\n",
            "5  01 STATEN ISLAND                   5052    501\n",
            "    community_board  count_of_311_requests borocd\n",
            "0          01 BRONX                   3346    201\n",
            "1       01 BROOKLYN                   2868    301\n",
            "2      01 MANHATTAN                    276    101\n",
            "3         01 QUEENS                   2466    401\n",
            "4  01 STATEN ISLAND                   1644    501\n",
            "    community_board  count_of_311_requests borocd\n",
            "1          01 BRONX                  20316    201\n",
            "2       01 BROOKLYN                  59389    301\n",
            "3      01 MANHATTAN                  20261    101\n",
            "4         01 QUEENS                  53370    401\n",
            "5  01 STATEN ISLAND                  58449    501\n",
            "    community_board  count_of_311_requests borocd\n",
            "1          01 BRONX                  27353    201\n",
            "2       01 BROOKLYN                  68101    301\n",
            "3      01 MANHATTAN                  21259    101\n",
            "4         01 QUEENS                  60425    401\n",
            "5  01 STATEN ISLAND                  65145    501\n"
          ],
          "name": "stdout"
        }
      ]
    },
    {
      "cell_type": "code",
      "metadata": {
        "id": "PuNKZhxg-VLg",
        "colab_type": "code",
        "outputId": "62a8006b-2864-417d-f8c1-41dae4e36809",
        "colab": {
          "base_uri": "https://localhost:8080/",
          "height": 34
        }
      },
      "source": [
        "27353 == 20316 + 3346 + 3691"
      ],
      "execution_count": 154,
      "outputs": [
        {
          "output_type": "execute_result",
          "data": {
            "text/plain": [
              "True"
            ]
          },
          "metadata": {
            "tags": []
          },
          "execution_count": 154
        }
      ]
    },
    {
      "cell_type": "markdown",
      "metadata": {
        "id": "ih2iDxK9RlnM",
        "colab_type": "text"
      },
      "source": [
        "Everything adds up, and we're ready to start Step 2"
      ]
    },
    {
      "cell_type": "markdown",
      "metadata": {
        "id": "1X6gVfhFlXf_",
        "colab_type": "text"
      },
      "source": [
        "**Step 2**. Create a stacked bar chart of 311 requests per community district. Each community district bar should be comprised of three stacked bars, one for each category listed below. The total height of each community district bar (the sum of the three stacked bars) should reflect the total count of 311 complaints per community district.\n",
        "- number of `'Noise - Residential'` complaints per community district\n",
        "- number of `'HEAT/HOT WATER'` complaints per community district\n",
        "- number of other complaints per community district "
      ]
    },
    {
      "cell_type": "code",
      "metadata": {
        "id": "iKy21qyZ5xeW",
        "colab_type": "code",
        "colab": {
          "base_uri": "https://localhost:8080/",
          "height": 413
        },
        "outputId": "71301d4d-c372-4a73-88f6-a7ccfff09dec"
      },
      "source": [
        "\n",
        "position_on_x = np.arange(len(count_all))\n",
        "counts_noise = np.array(count_noise.sort_values(by='count_of_311_requests', ascending=False).count_of_311_requests)\n",
        "counts_heatwater = np.array(count_heatwater.sort_values(by='count_of_311_requests', ascending=False).count_of_311_requests)\n",
        "counts_others = np.array(count_other.sort_values(by='count_of_311_requests', ascending=False).count_of_311_requests)\n",
        "bars = np.add(counts_noise,counts_heatwater).tolist()\n",
        "plt.figure(figsize=(15, 6))\n",
        "plot1 = plt.bar(\n",
        "  position_on_x,\n",
        "  counts_noise,\n",
        "  align='center',\n",
        "  color='blue',\n",
        "  label='request_noise'\n",
        ")\n",
        "plot2 = plt.bar(\n",
        "  position_on_x,\n",
        "  counts_heatwater,\n",
        "  bottom=counts_noise,\n",
        "  align='center',\n",
        "  color='green',\n",
        "  label='request_heatwater'\n",
        ")\n",
        "plot3 = plt.bar(\n",
        "  position_on_x,\n",
        "  counts_others,\n",
        "  bottom=bars,\n",
        "  align='center',\n",
        "  color='orange',\n",
        "  label='request_others'\n",
        ")\n",
        "plt.xticks(position_on_x, count_all.sort_values(by='count_of_311_requests', ascending=False).borocd, rotation=90)\n",
        "plt.title('Count of 311 Requests per Community District')\n",
        "plt.xlabel('BoroCD')\n",
        "plt.ylabel('# of Requests')\n",
        "plt.legend() \n",
        "\n",
        "plt.show()\n",
        "\n",
        "\n"
      ],
      "execution_count": 155,
      "outputs": [
        {
          "output_type": "display_data",
          "data": {
            "image/png": "[encoded data removed]",
            "text/plain": [
              "<Figure size 1080x432 with 1 Axes>"
            ]
          },
          "metadata": {
            "tags": []
          }
        }
      ]
    },
    {
      "cell_type": "code",
      "metadata": {
        "id": "zkUsP4N9Kmzi",
        "colab_type": "code",
        "colab": {
          "base_uri": "https://localhost:8080/",
          "height": 136
        },
        "outputId": "a1aeb614-eac7-4c4a-e092-bc4a153064cc"
      },
      "source": [
        "counts_heatwater \n"
      ],
      "execution_count": 156,
      "outputs": [
        {
          "output_type": "execute_result",
          "data": {
            "text/plain": [
              "array([11692, 11203, 10942,  9555,  7737,  7536,  6448,  6322,  6191,\n",
              "        5566,  5460,  5426,  5373,  5259,  4944,  4416,  4412,  4204,\n",
              "        3872,  3761,  3741,  3605,  3548,  3346,  3170,  3068,  2868,\n",
              "        2694,  2537,  2496,  2466,  2397,  2364,  2136,  2127,  2113,\n",
              "        2036,  2035,  2018,  1954,  1936,  1927,  1845,  1760,  1759,\n",
              "        1671,  1649,  1644,  1395,  1189,  1156,  1152,  1008,   864,\n",
              "         676,   429,   401,   276,   208])"
            ]
          },
          "metadata": {
            "tags": []
          },
          "execution_count": 156
        }
      ]
    },
    {
      "cell_type": "code",
      "metadata": {
        "id": "9MsCqbn8LzMf",
        "colab_type": "code",
        "colab": {
          "base_uri": "https://localhost:8080/",
          "height": 136
        },
        "outputId": "35314635-cc38-4f0d-a8ca-ccca5c232896"
      },
      "source": [
        "counts_noise"
      ],
      "execution_count": 157,
      "outputs": [
        {
          "output_type": "execute_result",
          "data": {
            "text/plain": [
              "array([11755,  9207,  7898,  7659,  7407,  6819,  6394,  6272,  6119,\n",
              "        5844,  5585,  5227,  5225,  5213,  5052,  5048,  5037,  4953,\n",
              "        4911,  4884,  4736,  4589,  4586,  4429,  4406,  4297,  4238,\n",
              "        4238,  4068,  3881,  3871,  3795,  3691,  3276,  3168,  3161,\n",
              "        2872,  2848,  2710,  2702,  2429,  2305,  2283,  2279,  2118,\n",
              "        2078,  1974,  1948,  1939,  1901,  1884,  1837,  1837,  1835,\n",
              "        1592,  1188,   810,   741,   722])"
            ]
          },
          "metadata": {
            "tags": []
          },
          "execution_count": 157
        }
      ]
    },
    {
      "cell_type": "markdown",
      "metadata": {
        "id": "OmKWCK9GlzgY",
        "colab_type": "text"
      },
      "source": [
        "**Step 3**. Using the same three dataframes created in Step 1, create a scatter plot of community district population (x-axis) vs. community district 311 counts (y-axis) split out by complaint category (noise, heat/water, other). The scatter plot should show the counts of each of the three complaint categories in a different color."
      ]
    },
    {
      "cell_type": "code",
      "metadata": {
        "id": "pt7fcOvmKy6i",
        "colab_type": "code",
        "colab": {
          "base_uri": "https://localhost:8080/",
          "height": 204
        },
        "outputId": "0aa766c5-a766-4e46-94ea-a669a449b444"
      },
      "source": [
        "population = pd.read_csv('https://data.cityofnewyork.us/api/views/xi7c-iiu2/rows.csv?accessType=DOWNLOAD', header='infer')\n",
        "population.head()"
      ],
      "execution_count": 158,
      "outputs": [
        {
          "output_type": "execute_result",
          "data": {
            "text/html": [
              "<div>\n",
              "<style scoped>\n",
              "    .dataframe tbody tr th:only-of-type {\n",
              "        vertical-align: middle;\n",
              "    }\n",
              "\n",
              "    .dataframe tbody tr th {\n",
              "        vertical-align: top;\n",
              "    }\n",
              "\n",
              "    .dataframe thead th {\n",
              "        text-align: right;\n",
              "    }\n",
              "</style>\n",
              "<table border=\"1\" class=\"dataframe\">\n",
              "  <thead>\n",
              "    <tr style=\"text-align: right;\">\n",
              "      <th></th>\n",
              "      <th>Borough</th>\n",
              "      <th>CD Number</th>\n",
              "      <th>CD Name</th>\n",
              "      <th>1970 Population</th>\n",
              "      <th>1980 Population</th>\n",
              "      <th>1990 Population</th>\n",
              "      <th>2000 Population</th>\n",
              "      <th>2010 Population</th>\n",
              "    </tr>\n",
              "  </thead>\n",
              "  <tbody>\n",
              "    <tr>\n",
              "      <th>0</th>\n",
              "      <td>Bronx</td>\n",
              "      <td>1</td>\n",
              "      <td>Melrose, Mott Haven, Port Morris</td>\n",
              "      <td>138557</td>\n",
              "      <td>78441</td>\n",
              "      <td>77214</td>\n",
              "      <td>82159</td>\n",
              "      <td>91497</td>\n",
              "    </tr>\n",
              "    <tr>\n",
              "      <th>1</th>\n",
              "      <td>Bronx</td>\n",
              "      <td>2</td>\n",
              "      <td>Hunts Point, Longwood</td>\n",
              "      <td>99493</td>\n",
              "      <td>34399</td>\n",
              "      <td>39443</td>\n",
              "      <td>46824</td>\n",
              "      <td>52246</td>\n",
              "    </tr>\n",
              "    <tr>\n",
              "      <th>2</th>\n",
              "      <td>Bronx</td>\n",
              "      <td>3</td>\n",
              "      <td>Morrisania, Crotona Park East</td>\n",
              "      <td>150636</td>\n",
              "      <td>53635</td>\n",
              "      <td>57162</td>\n",
              "      <td>68574</td>\n",
              "      <td>79762</td>\n",
              "    </tr>\n",
              "    <tr>\n",
              "      <th>3</th>\n",
              "      <td>Bronx</td>\n",
              "      <td>4</td>\n",
              "      <td>Highbridge, Concourse Village</td>\n",
              "      <td>144207</td>\n",
              "      <td>114312</td>\n",
              "      <td>119962</td>\n",
              "      <td>139563</td>\n",
              "      <td>146441</td>\n",
              "    </tr>\n",
              "    <tr>\n",
              "      <th>4</th>\n",
              "      <td>Bronx</td>\n",
              "      <td>5</td>\n",
              "      <td>University Hts., Fordham, Mt. Hope</td>\n",
              "      <td>121807</td>\n",
              "      <td>107995</td>\n",
              "      <td>118435</td>\n",
              "      <td>128313</td>\n",
              "      <td>128200</td>\n",
              "    </tr>\n",
              "  </tbody>\n",
              "</table>\n",
              "</div>"
            ],
            "text/plain": [
              "  Borough  CD Number                             CD Name  1970 Population  \\\n",
              "0   Bronx          1    Melrose, Mott Haven, Port Morris           138557   \n",
              "1   Bronx          2               Hunts Point, Longwood            99493   \n",
              "2   Bronx          3       Morrisania, Crotona Park East           150636   \n",
              "3   Bronx          4       Highbridge, Concourse Village           144207   \n",
              "4   Bronx          5  University Hts., Fordham, Mt. Hope           121807   \n",
              "\n",
              "   1980 Population  1990 Population  2000 Population  2010 Population  \n",
              "0            78441            77214            82159            91497  \n",
              "1            34399            39443            46824            52246  \n",
              "2            53635            57162            68574            79762  \n",
              "3           114312           119962           139563           146441  \n",
              "4           107995           118435           128313           128200  "
            ]
          },
          "metadata": {
            "tags": []
          },
          "execution_count": 158
        }
      ]
    },
    {
      "cell_type": "code",
      "metadata": {
        "id": "X6TZ9Og4bE8c",
        "colab_type": "code",
        "colab": {}
      },
      "source": [
        "def recode_borocd_pop(row):\n",
        "  if row.Borough == 'Manhattan':\n",
        "    return str(100 + row['CD Number'])\n",
        "  elif row.Borough == 'Bronx':\n",
        "    return str(200 + row['CD Number'])\n",
        "  elif row.Borough == 'Brooklyn':\n",
        "    return str(300 + row['CD Number'])\n",
        "  elif row.Borough == 'Queens':\n",
        "    return str(400 + row['CD Number'])\n",
        "  elif row.Borough == 'Staten Island':\n",
        "    return str(500 + row['CD Number'])\n",
        "  else:\n",
        "    return 'Invalid borocd'"
      ],
      "execution_count": 0,
      "outputs": []
    },
    {
      "cell_type": "code",
      "metadata": {
        "id": "FgCst7Kwblas",
        "colab_type": "code",
        "colab": {}
      },
      "source": [
        "population['borocd'] = population.apply(recode_borocd_pop, axis=1)\n",
        "count_heatwater['borocd'] = count_heatwater['borocd'].astype(str)\n",
        "count_noise['borocd'] = count_noise['borocd'].astype(str)\n",
        "count_other['borocd'] = count_other['borocd'].astype(str)"
      ],
      "execution_count": 0,
      "outputs": []
    },
    {
      "cell_type": "code",
      "metadata": {
        "id": "kwD5P9T0bvib",
        "colab_type": "code",
        "colab": {}
      },
      "source": [
        "pop_heatwater = population.merge(count_heatwater,on='borocd')\n",
        "pop_noise = population.merge(count_noise,on='borocd')\n",
        "pop_other = population.merge(count_other,on='borocd')\n"
      ],
      "execution_count": 0,
      "outputs": []
    },
    {
      "cell_type": "code",
      "metadata": {
        "id": "GqD79OvIjfLK",
        "colab_type": "code",
        "colab": {
          "base_uri": "https://localhost:8080/",
          "height": 495
        },
        "outputId": "3a952867-70bf-4768-c251-1107e8bfb608"
      },
      "source": [
        "pop_heatwater.head(10)"
      ],
      "execution_count": 164,
      "outputs": [
        {
          "output_type": "execute_result",
          "data": {
            "text/html": [
              "<div>\n",
              "<style scoped>\n",
              "    .dataframe tbody tr th:only-of-type {\n",
              "        vertical-align: middle;\n",
              "    }\n",
              "\n",
              "    .dataframe tbody tr th {\n",
              "        vertical-align: top;\n",
              "    }\n",
              "\n",
              "    .dataframe thead th {\n",
              "        text-align: right;\n",
              "    }\n",
              "</style>\n",
              "<table border=\"1\" class=\"dataframe\">\n",
              "  <thead>\n",
              "    <tr style=\"text-align: right;\">\n",
              "      <th></th>\n",
              "      <th>Borough</th>\n",
              "      <th>CD Number</th>\n",
              "      <th>CD Name</th>\n",
              "      <th>1970 Population</th>\n",
              "      <th>1980 Population</th>\n",
              "      <th>1990 Population</th>\n",
              "      <th>2000 Population</th>\n",
              "      <th>2010 Population</th>\n",
              "      <th>borocd</th>\n",
              "      <th>community_board</th>\n",
              "      <th>count_of_311_requests</th>\n",
              "    </tr>\n",
              "  </thead>\n",
              "  <tbody>\n",
              "    <tr>\n",
              "      <th>0</th>\n",
              "      <td>Bronx</td>\n",
              "      <td>1</td>\n",
              "      <td>Melrose, Mott Haven, Port Morris</td>\n",
              "      <td>138557</td>\n",
              "      <td>78441</td>\n",
              "      <td>77214</td>\n",
              "      <td>82159</td>\n",
              "      <td>91497</td>\n",
              "      <td>201</td>\n",
              "      <td>01 BRONX</td>\n",
              "      <td>3346</td>\n",
              "    </tr>\n",
              "    <tr>\n",
              "      <th>1</th>\n",
              "      <td>Bronx</td>\n",
              "      <td>2</td>\n",
              "      <td>Hunts Point, Longwood</td>\n",
              "      <td>99493</td>\n",
              "      <td>34399</td>\n",
              "      <td>39443</td>\n",
              "      <td>46824</td>\n",
              "      <td>52246</td>\n",
              "      <td>202</td>\n",
              "      <td>02 BRONX</td>\n",
              "      <td>2364</td>\n",
              "    </tr>\n",
              "    <tr>\n",
              "      <th>2</th>\n",
              "      <td>Bronx</td>\n",
              "      <td>3</td>\n",
              "      <td>Morrisania, Crotona Park East</td>\n",
              "      <td>150636</td>\n",
              "      <td>53635</td>\n",
              "      <td>57162</td>\n",
              "      <td>68574</td>\n",
              "      <td>79762</td>\n",
              "      <td>203</td>\n",
              "      <td>03 BRONX</td>\n",
              "      <td>3761</td>\n",
              "    </tr>\n",
              "    <tr>\n",
              "      <th>3</th>\n",
              "      <td>Bronx</td>\n",
              "      <td>4</td>\n",
              "      <td>Highbridge, Concourse Village</td>\n",
              "      <td>144207</td>\n",
              "      <td>114312</td>\n",
              "      <td>119962</td>\n",
              "      <td>139563</td>\n",
              "      <td>146441</td>\n",
              "      <td>204</td>\n",
              "      <td>04 BRONX</td>\n",
              "      <td>10942</td>\n",
              "    </tr>\n",
              "    <tr>\n",
              "      <th>4</th>\n",
              "      <td>Bronx</td>\n",
              "      <td>5</td>\n",
              "      <td>University Hts., Fordham, Mt. Hope</td>\n",
              "      <td>121807</td>\n",
              "      <td>107995</td>\n",
              "      <td>118435</td>\n",
              "      <td>128313</td>\n",
              "      <td>128200</td>\n",
              "      <td>205</td>\n",
              "      <td>05 BRONX</td>\n",
              "      <td>9555</td>\n",
              "    </tr>\n",
              "    <tr>\n",
              "      <th>5</th>\n",
              "      <td>Bronx</td>\n",
              "      <td>6</td>\n",
              "      <td>East Tremont, Belmont</td>\n",
              "      <td>114137</td>\n",
              "      <td>65016</td>\n",
              "      <td>68061</td>\n",
              "      <td>75688</td>\n",
              "      <td>83268</td>\n",
              "      <td>206</td>\n",
              "      <td>06 BRONX</td>\n",
              "      <td>4944</td>\n",
              "    </tr>\n",
              "    <tr>\n",
              "      <th>6</th>\n",
              "      <td>Bronx</td>\n",
              "      <td>7</td>\n",
              "      <td>Bedford Park, Norwood, Fordham</td>\n",
              "      <td>113764</td>\n",
              "      <td>116827</td>\n",
              "      <td>128588</td>\n",
              "      <td>141411</td>\n",
              "      <td>139286</td>\n",
              "      <td>207</td>\n",
              "      <td>07 BRONX</td>\n",
              "      <td>11203</td>\n",
              "    </tr>\n",
              "    <tr>\n",
              "      <th>7</th>\n",
              "      <td>Bronx</td>\n",
              "      <td>8</td>\n",
              "      <td>Riverdale, Kingsbridge, Marble Hill</td>\n",
              "      <td>103543</td>\n",
              "      <td>98275</td>\n",
              "      <td>97030</td>\n",
              "      <td>101332</td>\n",
              "      <td>101731</td>\n",
              "      <td>208</td>\n",
              "      <td>08 BRONX</td>\n",
              "      <td>4412</td>\n",
              "    </tr>\n",
              "    <tr>\n",
              "      <th>8</th>\n",
              "      <td>Bronx</td>\n",
              "      <td>9</td>\n",
              "      <td>Soundview, Parkchester</td>\n",
              "      <td>166442</td>\n",
              "      <td>167627</td>\n",
              "      <td>155970</td>\n",
              "      <td>167859</td>\n",
              "      <td>172298</td>\n",
              "      <td>209</td>\n",
              "      <td>09 BRONX</td>\n",
              "      <td>5426</td>\n",
              "    </tr>\n",
              "    <tr>\n",
              "      <th>9</th>\n",
              "      <td>Bronx</td>\n",
              "      <td>10</td>\n",
              "      <td>Throgs Nk., Co-op City, Pelham Bay</td>\n",
              "      <td>84948</td>\n",
              "      <td>106516</td>\n",
              "      <td>108093</td>\n",
              "      <td>115948</td>\n",
              "      <td>120392</td>\n",
              "      <td>210</td>\n",
              "      <td>10 BRONX</td>\n",
              "      <td>1760</td>\n",
              "    </tr>\n",
              "  </tbody>\n",
              "</table>\n",
              "</div>"
            ],
            "text/plain": [
              "  Borough  CD Number                              CD Name  1970 Population  \\\n",
              "0   Bronx          1     Melrose, Mott Haven, Port Morris           138557   \n",
              "1   Bronx          2                Hunts Point, Longwood            99493   \n",
              "2   Bronx          3        Morrisania, Crotona Park East           150636   \n",
              "3   Bronx          4        Highbridge, Concourse Village           144207   \n",
              "4   Bronx          5   University Hts., Fordham, Mt. Hope           121807   \n",
              "5   Bronx          6                East Tremont, Belmont           114137   \n",
              "6   Bronx          7       Bedford Park, Norwood, Fordham           113764   \n",
              "7   Bronx          8  Riverdale, Kingsbridge, Marble Hill           103543   \n",
              "8   Bronx          9               Soundview, Parkchester           166442   \n",
              "9   Bronx         10   Throgs Nk., Co-op City, Pelham Bay            84948   \n",
              "\n",
              "   1980 Population  1990 Population  2000 Population  2010 Population borocd  \\\n",
              "0            78441            77214            82159            91497    201   \n",
              "1            34399            39443            46824            52246    202   \n",
              "2            53635            57162            68574            79762    203   \n",
              "3           114312           119962           139563           146441    204   \n",
              "4           107995           118435           128313           128200    205   \n",
              "5            65016            68061            75688            83268    206   \n",
              "6           116827           128588           141411           139286    207   \n",
              "7            98275            97030           101332           101731    208   \n",
              "8           167627           155970           167859           172298    209   \n",
              "9           106516           108093           115948           120392    210   \n",
              "\n",
              "  community_board  count_of_311_requests  \n",
              "0        01 BRONX                   3346  \n",
              "1        02 BRONX                   2364  \n",
              "2        03 BRONX                   3761  \n",
              "3        04 BRONX                  10942  \n",
              "4        05 BRONX                   9555  \n",
              "5        06 BRONX                   4944  \n",
              "6        07 BRONX                  11203  \n",
              "7        08 BRONX                   4412  \n",
              "8        09 BRONX                   5426  \n",
              "9        10 BRONX                   1760  "
            ]
          },
          "metadata": {
            "tags": []
          },
          "execution_count": 164
        }
      ]
    },
    {
      "cell_type": "code",
      "metadata": {
        "id": "6CXP2bXsfs9l",
        "colab_type": "code",
        "colab": {
          "base_uri": "https://localhost:8080/",
          "height": 404
        },
        "outputId": "9f3b0da1-13a8-4ebe-dd2d-18273b8ccff8"
      },
      "source": [
        "# define the color to be used for the markers for each data subset group\n",
        "colors = [\"red\", \"green\", \"blue\"]\n",
        "\n",
        "# define the labels to be used for the data subset group\n",
        "groups = [\"Water\", \"Noise\", \"Other\"]\n",
        "\n",
        "plt.figure(figsize=(15,6))\n",
        "\n",
        "plt.scatter(\n",
        "  pop_heatwater[\"2010 Population\"]/1000,\n",
        "  pop_heatwater[\"count_of_311_requests\"],\n",
        "  alpha=0.8,\n",
        "  c=colors[0],\n",
        "  s=50,\n",
        "  label=groups[0]\n",
        ")\n",
        "# each new plot gets rendered on top of the previous one\n",
        "\n",
        "plt.scatter(\n",
        "  pop_noise[\"2010 Population\"]/1000,\n",
        "  pop_noise[\"count_of_311_requests\"],\n",
        "  alpha=0.8,\n",
        "  c=colors[1],\n",
        "  s=50,\n",
        "  label=groups[1]\n",
        ")\n",
        "plt.scatter(\n",
        "  pop_other[\"2010 Population\"]/1000,\n",
        "  pop_other[\"count_of_311_requests\"],\n",
        "  alpha=0.8,\n",
        "  c=colors[2],\n",
        "  s=50,\n",
        "  label=groups[2]\n",
        ")\n",
        "\n",
        "plt.title('311 Requests vs. Community District Population')\n",
        "plt.xlabel('Population in Community District (Thousands)')\n",
        "plt.ylabel('# of 311 Requests in Community District')\n",
        "\n",
        "plt.legend(loc=2)\n",
        "\n",
        "plt.show()"
      ],
      "execution_count": 170,
      "outputs": [
        {
          "output_type": "display_data",
          "data": {
            "image/png": "[encoded data removed]",
            "text/plain": [
              "<Figure size 1080x432 with 1 Axes>"
            ]
          },
          "metadata": {
            "tags": []
          }
        }
      ]
    },
    {
      "cell_type": "markdown",
      "metadata": {
        "id": "cEpkaB9wYOw8",
        "colab_type": "text"
      },
      "source": [
        "Does it seem like there's a positive correlation between population and noise complaints or population and heat/water complaints? What's a possible explanation for the relationship or lack of relationship?"
      ]
    },
    {
      "cell_type": "markdown",
      "metadata": {
        "id": "jwJAvT5ulnze",
        "colab_type": "text"
      },
      "source": [
        "Yes, there is a correlation between  population and the number of complaints as there are more people complaining about the issue"
      ]
    }
  ]
}